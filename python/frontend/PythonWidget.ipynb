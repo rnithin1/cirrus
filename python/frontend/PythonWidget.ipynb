{
 "cells": [
  {
   "cell_type": "code",
   "execution_count": 1,
   "metadata": {},
   "outputs": [
    {
     "name": "stderr",
     "output_type": "stream",
     "text": [
      "/usr/local/lib/python3.6/dist-packages/ipyparallel/util.py:208: RuntimeWarning: IPython could not determine IPs for Frostbelts: [Errno -2] Name or service not known\n",
      "  RuntimeWarning)\n",
      "/usr/local/lib/python3.6/dist-packages/ipyparallel/client/client.py:459: RuntimeWarning: \n",
      "            Controller appears to be listening on localhost, but not on this machine.\n",
      "            If this is true, you should specify Client(...,sshserver='you@Frostbelts')\n",
      "            or instruct your controller to listen on an external IP.\n",
      "  RuntimeWarning)\n"
     ]
    },
    {
     "data": {
      "text/plain": [
       "[0, 1, 2, 3, 4, 5, 6, 7]"
      ]
     },
     "execution_count": 1,
     "metadata": {},
     "output_type": "execute_result"
    }
   ],
   "source": [
    "import numpy as np\n",
    "from IPython.core.display import display, HTML\n",
    "from IPython.display import display\n",
    "import ipywidgets as widgets\n",
    "from string import Template\n",
    "import json\n",
    "from scipy import stats\n",
    "from IPython.display import clear_output\n",
    "import ipyparallel as ipp\n",
    "from matplotlib import pyplot as plt\n",
    "rc = ipp.Client('/home/rnithin/.ipython/profile_default/security/ipcontroller-client.json')\n",
    "dv = rc[:]\n",
    "rc.ids"
   ]
  },
  {
   "cell_type": "code",
   "execution_count": null,
   "metadata": {},
   "outputs": [],
   "source": []
  },
  {
   "cell_type": "code",
   "execution_count": 2,
   "metadata": {},
   "outputs": [
    {
     "name": "stderr",
     "output_type": "stream",
     "text": [
      "/usr/lib/python3/dist-packages/matplotlib/figure.py:418: UserWarning: matplotlib is currently using a non-GUI backend, so cannot show the figure\n",
      "  \"matplotlib is currently using a non-GUI backend, \"\n"
     ]
    },
    {
     "data": {
      "image/png": "[encoded data removed]",
      "text/plain": [
       "<matplotlib.figure.Figure at 0x7f0c47b27518>"
      ]
     },
     "metadata": {},
     "output_type": "display_data"
    }
   ],
   "source": [
    "fig = plt.figure()\n",
    "ax = fig.add_subplot(111)\n",
    "plt.ion()\n",
    "fig.show()\n",
    "fig.canvas.draw()\n",
    "\n",
    "for z in range(0, 20):\n",
    "    ax.clear()\n",
    "    x = np.arange(z)\n",
    "    y = 0.00025 + 0.001 * np.exp(-x/100.) + stats.gamma(3).rvs(len(x))*(1-np.exp(-x/100))*2e-5\n",
    "    ax.plot(y)\n",
    "    fig.canvas.draw()\n"
   ]
  },
  {
   "cell_type": "code",
   "execution_count": null,
   "metadata": {},
   "outputs": [],
   "source": []
  },
  {
   "cell_type": "code",
   "execution_count": null,
   "metadata": {},
   "outputs": [],
   "source": []
  },
  {
   "cell_type": "code",
   "execution_count": null,
   "metadata": {},
   "outputs": [],
   "source": []
  },
  {
   "cell_type": "code",
   "execution_count": null,
   "metadata": {
    "scrolled": false
   },
   "outputs": [
    {
     "data": {
      "image/png": "[encoded data removed]",
      "text/plain": [
       "<matplotlib.figure.Figure at 0x7f0c701f64e0>"
      ]
     },
     "metadata": {},
     "output_type": "display_data"
    }
   ],
   "source": [
    "# %%px --targets :3\n",
    "%matplotlib inline\n",
    "\n",
    "import keras\n",
    "from keras.datasets import mnist\n",
    "from keras.utils import to_categorical\n",
    "from keras.models import Sequential\n",
    "from keras.layers import Flatten, Dense, Activation\n",
    "from keras.callbacks import CSVLogger\n",
    "\n",
    "accu, val_accu = [], []\n",
    "\n",
    "import numpy as np\n",
    "from matplotlib import pyplot as plt\n",
    "from IPython.display import clear_output\n",
    "\n",
    "(X_train, y_train), (X_test, y_test) = mnist.load_data()\n",
    "Y_train = to_categorical(y_train)\n",
    "Y_test = to_categorical(y_test)\n",
    "X_train = X_train.reshape(-1, 28, 28, 1).astype('float32') / 255.\n",
    "X_test = X_test.reshape(-1, 28, 28, 1).astype('float32') / 255.\n",
    "class PlotLearning(keras.callbacks.Callback):\n",
    "        def on_train_begin(self, logs={}):\n",
    "                self.i = 0\n",
    "                self.x = []\n",
    "                self.losses = []\n",
    "                self.val_losses = []\n",
    "                self.acc = []\n",
    "                self.val_acc = []\n",
    "                self.fig = plt.figure()\n",
    "                self.logs = []\n",
    "                \n",
    "        def on_epoch_end(self, epoch, logs={}):\n",
    "                self.logs.append(logs)\n",
    "                self.x.append(self.i)\n",
    "                self.losses.append(logs.get('loss'))\n",
    "                self.val_losses.append(logs.get('val_loss'))\n",
    "                self.acc.append(logs.get('acc'))\n",
    "                self.val_acc.append(logs.get('val_acc'))\n",
    "                self.i += 1\n",
    "                f, (ax1, ax2) = plt.subplots(1, 2, sharex=True)\n",
    "                clear_output(wait=True)\n",
    "\n",
    "                loss, = ax1.plot(self.x, self.losses, label=\"loss\", color='red')\n",
    "                val_loss, = ax1.plot(self.x, self.val_losses, label=\"val_loss\", color='blue')\n",
    "                #ax1.legend()\n",
    "                leg = ax1.legend(loc='upper right', fancybox=True, shadow=True)\n",
    "                leg.get_frame().set_alpha(0.4)\n",
    "                lines = [loss, val_loss]\n",
    "                lined = dict()\n",
    "                for legline, origline in zip(leg.get_lines(), lines):\n",
    "                        legline.set_picker(5)  # 5 pts tolerance\n",
    "                        lined[legline] = origline\n",
    "\n",
    "                def onpick(event):\n",
    "                        legline = event.artist\n",
    "                        origline = lined[legline]\n",
    "                        vis = not origline.get_visible()\n",
    "                        origline.set_visible(vis)\n",
    "                        if vis:\n",
    "                                legline.set_alpha(1.0)\n",
    "                        else:\n",
    "                                legline.set_alpha(0.2)\n",
    "                        f.canvas.draw()\n",
    "                        \n",
    "                # f.canvas.mpl_connect('pick_event', onpick)\n",
    "                plt.show();\n",
    "                \n",
    "plot = PlotLearning()\n",
    "\n",
    "csv_logger = CSVLogger('log.csv', append=True, separator=';')\n",
    "\n",
    "model1 = Sequential()\n",
    "\n",
    "model1.add(Flatten(input_shape=(28, 28, 1)))\n",
    "model1.add(Dense(10))\n",
    "model1.add(Activation('softmax'))\n",
    "\n",
    "model2 = Sequential()\n",
    "model2.add(Flatten(input_shape=(28, 28, 1)))\n",
    "model2.add(Dense(10))\n",
    "model2.add(Activation('relu'))\n",
    "\n",
    "model2.compile(optimizer='rmsprop',\n",
    "              loss='categorical_crossentropy',\n",
    "              metrics=['accuracy'])\n",
    "\n",
    "model1.compile(optimizer='rmsprop',\n",
    "              loss='categorical_crossentropy',\n",
    "              metrics=['accuracy'])\n",
    "\n",
    "model1.fit(X_train, Y_train,\n",
    "              epochs=4,\n",
    "              validation_data=(X_test, Y_test),\n",
    "              callbacks=[plot, csv_logger],\n",
    "              verbose=0)\n"
   ]
  },
  {
   "cell_type": "code",
   "execution_count": null,
   "metadata": {},
   "outputs": [],
   "source": []
  },
  {
   "cell_type": "code",
   "execution_count": null,
   "metadata": {},
   "outputs": [],
   "source": [
    "%%px --targets 3:\n",
    "\n",
    "import pandas as pd\n",
    "\n",
    "df = pd.read_csv('log.csv')\n",
    "df"
   ]
  },
  {
   "cell_type": "code",
   "execution_count": null,
   "metadata": {},
   "outputs": [],
   "source": []
  },
  {
   "cell_type": "code",
   "execution_count": null,
   "metadata": {},
   "outputs": [],
   "source": [
    "%%px --targets 1\n",
    "\n",
    "model2.fit(X_train, Y_train,\n",
    "          epochs=3,\n",
    "          validation_data=(X_test, Y_test),\n",
    "          callbacks=[plot, csv_logger],\n",
    "          verbose=0)"
   ]
  },
  {
   "cell_type": "code",
   "execution_count": null,
   "metadata": {},
   "outputs": [],
   "source": [
    "%matplotlib notebook\n",
    "\n",
    "import numpy as np\n",
    "import matplotlib.pyplot as plt\n",
    "\n",
    "t = np.arange(0.0, 0.2, 0.1)\n",
    "y1 = 2*np.sin(2*np.pi*t)\n",
    "y2 = 4*np.sin(2*np.pi*2*t)\n",
    "\n",
    "fig, ax = plt.subplots()\n",
    "ax.set_title('Click on legend line to toggle line on/off')\n",
    "line1, = ax.plot(t, y1, lw=2, color='red', label='1 HZ')\n",
    "line2, = ax.plot(t, y2, lw=2, color='blue', label='2 HZ')\n",
    "leg = ax.legend(loc='upper left', fancybox=True, shadow=True)\n",
    "leg.get_frame().set_alpha(0.4)\n",
    "\n",
    "# we will set up a dict mapping legend line to orig line, and enable\n",
    "# picking on the legend line\n",
    "lines = [line1, line2]\n",
    "lined = dict()\n",
    "for legline, origline in zip(leg.get_lines(), lines):\n",
    "    legline.set_picker(5)  # 5 pts tolerance\n",
    "    lined[legline] = origline\n",
    "\n",
    "\n",
    "def onpick(event):\n",
    "    # on the pick event, find the orig line corresponding to the\n",
    "    # legend proxy line, and toggle the visibility\n",
    "    legline = event.artist\n",
    "    origline = lined[legline]\n",
    "    vis = not origline.get_visible()\n",
    "    origline.set_visible(vis)\n",
    "    # Change the alpha on the line in the legend so we can see what lines\n",
    "    # have been toggled\n",
    "    if vis:\n",
    "        legline.set_alpha(1.0)\n",
    "    else:\n",
    "        legline.set_alpha(0.2)\n",
    "    fig.canvas.draw()\n",
    "\n",
    "fig.canvas.mpl_connect('pick_event', onpick)\n",
    "\n",
    "plt.show()"
   ]
  },
  {
   "cell_type": "code",
   "execution_count": null,
   "metadata": {},
   "outputs": [],
   "source": []
  },
  {
   "cell_type": "code",
   "execution_count": null,
   "metadata": {},
   "outputs": [],
   "source": []
  },
  {
   "cell_type": "code",
   "execution_count": null,
   "metadata": {
    "scrolled": false
   },
   "outputs": [],
   "source": [
    "from IPython.html import widgets\n",
    "from IPython.utils.traitlets import Unicode\n",
    "\n",
    "\n",
    "class CircleView(widgets.DOMWidget):\n",
    "    _view_name = Unicode('CircleView', sync=True)\n",
    "\n",
    "    def __init__(self, *pargs, **kwargs):\n",
    "        widgets.DOMWidget.__init__(self, *pargs, **kwargs)\n",
    "        self._handlers = widgets.CallbackDispatcher()\n",
    "        self.on_msg(self._handle_my_msg)\n",
    "\n",
    "    def _ipython_display_(self, *pargs, **kwargs):\n",
    "        widgets.DOMWidget._ipython_display_(self, *pargs, **kwargs)\n",
    "\n",
    "    def _handle_my_msg(self, _, content):\n",
    "        \"\"\"handle a message from the frontent\"\"\"\n",
    "        if content.get('event', '') == 'mouseover':\n",
    "            self._handlers(self)\n",
    "\n",
    "    def on_mouseover(self, callback):\n",
    "        \"\"\"Register a callback at mouseover\"\"\"\n",
    "        self._handlers.register_callback(callback)"
   ]
  },
  {
   "cell_type": "code",
   "execution_count": null,
   "metadata": {},
   "outputs": [],
   "source": [
    "%%javascript\n",
    "\n",
    "require([\"//cdnjs.cloudflare.com/ajax/libs/d3/3.4.1/d3.min.js\",\n",
    "         \"widgets/js/widget\"], function(d3, WidgetManager){\n",
    "\n",
    "  var CircleView = IPython.DOMWidgetView.extend({\n",
    "\n",
    "    render: function(){\n",
    "            this.guid = 'circle' + IPython.utils.uuid();\n",
    "            this.setElement($('<div />', {id: this.guid}));\n",
    "            \n",
    "            this.model.on('msg:custom', this.on_msg, this);\n",
    "            this.has_drawn = false;\n",
    "\n",
    "            // Wait for element to be added to the DOM\n",
    "            var that = this;\n",
    "            setTimeout(function() {\n",
    "                that.update();\n",
    "            }, 0);\n",
    "    },\n",
    "\n",
    "    update: function(){\n",
    "        var that = this;\n",
    "\n",
    "        if (!this.has_drawn) {\n",
    "           this.has_drawn = true;\n",
    "\n",
    "           this.svg = d3.select(\"#\" + this.guid).append(\"svg\")\n",
    "               .attr(\"width\", 200)\n",
    "               .attr(\"height\", 200);\n",
    "\n",
    "           this.circle = this.svg.append(\"circle\")\n",
    "                    .attr(\"cx\", 100)\n",
    "                    .attr(\"cy\", 100)\n",
    "                    .attr(\"r\", 20)\n",
    "                    .style(\"fill\", \"red\")\n",
    "                    .style(\"fill-opacity\", 0.5)\n",
    "                    .on(\"mouseenter\", function(){that.send({event:'mouseover'})});\n",
    "       }\n",
    "       return CircleView.__super__.update.apply(this);\n",
    "    },\n",
    "\n",
    "    on_msg: function(attrs){\n",
    "        this.circle.transition().attr(attrs).style(attrs);\n",
    "    }\n",
    "  });\n",
    "  WidgetManager.register_widget_view('CircleView', CircleView);\n",
    "})"
   ]
  },
  {
   "cell_type": "code",
   "execution_count": null,
   "metadata": {},
   "outputs": [],
   "source": [
    "from random import randint\n",
    "\n",
    "colors = ['blue', 'green', 'orange', 'black', 'magenta', 'red']\n",
    "\n",
    "def update_circle(view):\n",
    "    view.send({\"cx\": randint(30, 170),\n",
    "               \"cy\": randint(30, 170),\n",
    "               \"r\": randint(10, 30),\n",
    "               \"fill\": colors[randint(0, 5)]})\n",
    "\n",
    "circle = CircleView()\n",
    "circle.on_mouseover(update_circle)\n",
    "\n",
    "print(\"Try to catch the circle!\")\n",
    "display(circle)"
   ]
  },
  {
   "cell_type": "code",
   "execution_count": null,
   "metadata": {},
   "outputs": [],
   "source": [
    "plot_losses"
   ]
  },
  {
   "cell_type": "code",
   "execution_count": null,
   "metadata": {},
   "outputs": [],
   "source": [
    "y"
   ]
  },
  {
   "cell_type": "code",
   "execution_count": null,
   "metadata": {},
   "outputs": [],
   "source": [
    "%matplotlib notebook\n",
    "\n",
    "\"\"\"\n",
    "Enable picking on the legend to toggle the original line on and off\n",
    "\"\"\"\n",
    "import numpy as np\n",
    "import matplotlib.pyplot as plt\n",
    "\n",
    "t = np.arange(0.0, 0.2, 0.1)\n",
    "y1 = 2*np.sin(2*np.pi*t)\n",
    "y2 = 4*np.sin(2*np.pi*2*t)\n",
    "\n",
    "fig, ax = plt.subplots()\n",
    "ax.set_title('Click on legend line to toggle line on/off')\n",
    "line1, = ax.plot(t, y1, lw=2, color='red', label='1 HZ')\n",
    "line2, = ax.plot(t, y2, lw=2, color='blue', label='2 HZ')\n",
    "leg = ax.legend(loc='upper left', fancybox=True, shadow=True)\n",
    "leg.get_frame().set_alpha(0.4)\n",
    "\n",
    "\n",
    "# we will set up a dict mapping legend line to orig line, and enable\n",
    "# picking on the legend line\n",
    "lines = [line1, line2]\n",
    "lined = dict()\n",
    "for legline, origline in zip(leg.get_lines(), lines):\n",
    "    legline.set_picker(5)  # 5 pts tolerance\n",
    "    lined[legline] = origline\n",
    "\n",
    "\n",
    "def onpick(event):\n",
    "    # on the pick event, find the orig line corresponding to the\n",
    "    # legend proxy line, and toggle the visibility\n",
    "    legline = event.artist\n",
    "    origline = lined[legline]\n",
    "    vis = not origline.get_visible()\n",
    "    origline.set_visible(vis)\n",
    "    # Change the alpha on the line in the legend so we can see what lines\n",
    "    # have been toggled\n",
    "    if vis:\n",
    "        legline.set_alpha(1.0)\n",
    "    else:\n",
    "        legline.set_alpha(0.2)\n",
    "    fig.canvas.draw()\n",
    "\n",
    "fig.canvas.mpl_connect('pick_event', onpick)\n",
    "\n",
    "plt.show()"
   ]
  },
  {
   "cell_type": "code",
   "execution_count": null,
   "metadata": {},
   "outputs": [],
   "source": [
    "matplotlib"
   ]
  },
  {
   "cell_type": "code",
   "execution_count": null,
   "metadata": {},
   "outputs": [],
   "source": []
  }
 ],
 "metadata": {
  "kernelspec": {
   "display_name": "Python 3",
   "language": "python",
   "name": "python3"
  },
  "language_info": {
   "codemirror_mode": {
    "name": "ipython",
    "version": 3
   },
   "file_extension": ".py",
   "mimetype": "text/x-python",
   "name": "python",
   "nbconvert_exporter": "python",
   "pygments_lexer": "ipython3",
   "version": "3.6.5"
  }
 },
 "nbformat": 4,
 "nbformat_minor": 2
}
